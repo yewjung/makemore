{
 "cells": [
  {
   "cell_type": "code",
   "execution_count": 3,
   "id": "05fe381b",
   "metadata": {},
   "outputs": [
    {
     "name": "stdout",
     "output_type": "stream",
     "text": [
      "names retrieved\n"
     ]
    }
   ],
   "source": [
    "import random\n",
    "import string\n",
    "from typing import Dict, List, Tuple\n",
    "import torch\n",
    "import torch.nn.functional as F\n",
    "\n",
    "batch_size= 32\n",
    "block_size = 3\n",
    "embed_size = 10\n",
    "hidden_layer_neurons = 200\n",
    "\n",
    "# length of names = 32033\n",
    "def get_names() -> List[str]:\n",
    "    names = []\n",
    "    with open('../names.txt') as f:\n",
    "        # names = list(map(lambda x: x[:-1], (next(f) for _ in range(50))))\n",
    "        names = f.read().splitlines()\n",
    "    return names\n",
    "\n",
    "# building stoi\n",
    "def get_stoi() -> Dict[str, int]:\n",
    "    stoi = {c: i+1 for i, c in enumerate(string.ascii_lowercase)}\n",
    "    stoi['.'] = 0\n",
    "    return stoi\n",
    "\n",
    "\n",
    "# bulding itos\n",
    "def get_itos() -> List[str]:\n",
    "    itos = ['.'] + list(string.ascii_lowercase)\n",
    "    return itos\n",
    "\n",
    "stoi = get_stoi()\n",
    "itos = get_itos()\n",
    "# preparing dataset\n",
    "def get_xs_ys_from_name(name: str, block_size: int) -> Tuple[List[List[int]], List[int]]:\n",
    "\n",
    "    xs, ys = [], []\n",
    "    x = [0] * block_size\n",
    "    for i in range(len(name)):\n",
    "        c1 = name[i]\n",
    "        c2 = name[i + 1] if i < len(name) - 1 else '.'\n",
    "        first = stoi[c1]\n",
    "        second = stoi[c2]\n",
    "\n",
    "        x.append(first)\n",
    "        x = x[1:]\n",
    "\n",
    "        xs.append(x.copy())\n",
    "        ys.append(second)\n",
    "\n",
    "    return xs, ys\n",
    "\n",
    "# xs, ys = get_xs_ys_from_name('emma', 10)\n",
    "def print_in_outs(xs: List[List[str]], ys: List[str]):\n",
    "    name_blocks = [ ''.join(map(lambda i: itos[i], x)) for x in xs]\n",
    "    outs = map(lambda i: itos[i], ys)\n",
    "    for x, y in zip(name_blocks, outs):\n",
    "        print(f'{x} -> {y}')\n",
    "\n",
    "# converting name blocks to weight tensor\n",
    "# 1 input: (assuming block size = 3)\n",
    "# (block_size, embed_size) -> (1, block_size * embed_size)\n",
    "\n",
    "# batch_size inputs:\n",
    "# (batch_size, block_size, embed_size) -> (batch_size, block_size * embed_size)\n",
    "def build_dataset(names: List[str]) -> Tuple[torch.Tensor, torch.Tensor]:\n",
    "    xs, ys = [], []\n",
    "    for name in names:\n",
    "        x, y = get_xs_ys_from_name(name, block_size)\n",
    "        xs.extend(x)\n",
    "        ys.extend(y)\n",
    "    return torch.tensor(xs), torch.tensor(ys)\n",
    "\n",
    "names = get_names()\n",
    "print(\"names retrieved\")\n",
    "random.seed(42)\n",
    "random.shuffle(names)\n",
    "n1 = int(0.8 * len(names))\n",
    "n2 = int(0.9 * len(names))\n",
    "Xtr, Ytr = build_dataset(names[:n1])\n",
    "Xval, Yval = build_dataset(names[n1:n2])\n",
    "Xtest, Ytest = build_dataset(names[n2:])\n",
    "\n",
    "\n",
    "g = torch.Generator().manual_seed(2147483647)\n",
    "def training() -> torch.Tensor:\n",
    "    # setup parameters\n",
    "    C = torch.randn((27, embed_size))\n",
    "    W1 = torch.randn((block_size * embed_size, hidden_layer_neurons), generator=g)\n",
    "    b1 = torch.randn((hidden_layer_neurons), generator=g)\n",
    "    W2 = torch.randn((hidden_layer_neurons, 27), generator=g)\n",
    "    b2 = torch.randn((27), generator=g)\n",
    "    parameters = [C, W1, b1, W2, b2]\n",
    "    for p in parameters:\n",
    "        p.requires_grad = True\n",
    "    \n",
    "    num_of_ws = sum(p.nelement() for p in parameters) \n",
    "    print(f'{num_of_ws=}')\n",
    "\n",
    "    for i in range(200000):\n",
    "        # pick random batch_size inputs from Xtr\n",
    "        ix = torch.randint(0, len(Xtr), (batch_size,), generator=g)\n",
    "        embed = C[Xtr[ix]]\n",
    "\n",
    "\n",
    "        # forward\n",
    "        h = (embed.view(-1, block_size * embed_size) @ W1 + b1).tanh()\n",
    "        logits = h @ W2 + b2\n",
    "        loss = F.cross_entropy(logits, Ytr[ix])\n",
    "\n",
    "        # backward\n",
    "        for p in parameters:\n",
    "            p.grad = None\n",
    "        loss.backward()\n",
    "\n",
    "        # update\n",
    "        lr = 0.1 if i < 100000 else 0.01\n",
    "        for p in parameters:\n",
    "            p.data += -lr * p.grad\n",
    "\n",
    "\n",
    "    return parameters\n",
    "\n",
    "def inference(dataset: torch.Tensor, labels: torch.Tensor):\n",
    "    emb = C[dataset] # (32, 3, 2)\n",
    "    h = torch.tanh(emb.view(-1, block_size * embed_size) @ W1 + b1) # (32, 100)\n",
    "    logits = h @ W2 + b2 # (32, 27)\n",
    "    loss = F.cross_entropy(logits, labels)\n",
    "    return loss"
   ]
  },
  {
   "cell_type": "code",
   "execution_count": 4,
   "id": "0f1965c2",
   "metadata": {},
   "outputs": [
    {
     "name": "stdout",
     "output_type": "stream",
     "text": [
      "num_of_ws=11897\n",
      "training_loss=tensor(1.9672, grad_fn=<NllLossBackward0>)\n",
      "validation_loss=tensor(2.0204, grad_fn=<NllLossBackward0>)\n"
     ]
    }
   ],
   "source": [
    "C, W1, b1, W2, b2 = training()\n",
    "training_loss = inference(Xtr, Ytr)\n",
    "validation_loss = inference(Xval, Yval)\n",
    "print(f'{training_loss=}')\n",
    "print(f'{validation_loss=}')\n"
   ]
  },
  {
   "cell_type": "code",
   "execution_count": 14,
   "id": "333d9760",
   "metadata": {},
   "outputs": [
    {
     "data": {
      "text/plain": [
       "tensor(1.9672, grad_fn=<NllLossBackward0>)"
      ]
     },
     "execution_count": 14,
     "metadata": {},
     "output_type": "execute_result"
    }
   ],
   "source": [
    "training_loss"
   ]
  },
  {
   "cell_type": "code",
   "execution_count": 15,
   "id": "6be2d379",
   "metadata": {},
   "outputs": [
    {
     "data": {
      "text/plain": [
       "tensor(2.0204, grad_fn=<NllLossBackward0>)"
      ]
     },
     "execution_count": 15,
     "metadata": {},
     "output_type": "execute_result"
    }
   ],
   "source": [
    "validation_loss"
   ]
  },
  {
   "cell_type": "code",
   "execution_count": 16,
   "id": "3bd87ec5",
   "metadata": {},
   "outputs": [],
   "source": [
    "def generate():\n",
    "    for _ in range(20):\n",
    "        out = []\n",
    "        context = [0] * block_size\n",
    "        while True:\n",
    "            emb = C[torch.tensor([context])] # (32, 3, 2)\n",
    "            h = torch.tanh(emb.view(-1, block_size * embed_size) @ W1 + b1) # (32, 100)\n",
    "            logits = h @ W2 + b2 # (32, 27)\n",
    "            prob = F.softmax(logits, dim=1)\n",
    "            idx = torch.multinomial(prob, num_samples=1, generator=g)\n",
    "            context.append(itos[idx])\n",
    "            context = context[1:]\n",
    "            out.append(itos[idx])\n",
    "            if idx == 0:\n",
    "                break\n",
    "        print(''.join(out))"
   ]
  },
  {
   "cell_type": "code",
   "execution_count": 17,
   "id": "2a9d2c79",
   "metadata": {},
   "outputs": [
    {
     "ename": "TypeError",
     "evalue": "new(): invalid data type 'str'",
     "output_type": "error",
     "traceback": [
      "\u001b[0;31m---------------------------------------------------------------------------\u001b[0m",
      "\u001b[0;31mTypeError\u001b[0m                                 Traceback (most recent call last)",
      "Cell \u001b[0;32mIn[17], line 1\u001b[0m\n\u001b[0;32m----> 1\u001b[0m \u001b[43mgenerate\u001b[49m\u001b[43m(\u001b[49m\u001b[43m)\u001b[49m\n",
      "Cell \u001b[0;32mIn[16], line 6\u001b[0m, in \u001b[0;36mgenerate\u001b[0;34m()\u001b[0m\n\u001b[1;32m      4\u001b[0m context \u001b[38;5;241m=\u001b[39m [\u001b[38;5;241m0\u001b[39m] \u001b[38;5;241m*\u001b[39m block_size\n\u001b[1;32m      5\u001b[0m \u001b[38;5;28;01mwhile\u001b[39;00m \u001b[38;5;28;01mTrue\u001b[39;00m:\n\u001b[0;32m----> 6\u001b[0m     emb \u001b[38;5;241m=\u001b[39m C[\u001b[43mtorch\u001b[49m\u001b[38;5;241;43m.\u001b[39;49m\u001b[43mtensor\u001b[49m\u001b[43m(\u001b[49m\u001b[43mcontext\u001b[49m\u001b[43m)\u001b[49m] \u001b[38;5;66;03m# (32, 3, 2)\u001b[39;00m\n\u001b[1;32m      7\u001b[0m     h \u001b[38;5;241m=\u001b[39m torch\u001b[38;5;241m.\u001b[39mtanh(emb\u001b[38;5;241m.\u001b[39mview(\u001b[38;5;241m-\u001b[39m\u001b[38;5;241m1\u001b[39m, block_size \u001b[38;5;241m*\u001b[39m embed_size) \u001b[38;5;241m@\u001b[39m W1 \u001b[38;5;241m+\u001b[39m b1) \u001b[38;5;66;03m# (32, 100)\u001b[39;00m\n\u001b[1;32m      8\u001b[0m     logits \u001b[38;5;241m=\u001b[39m h \u001b[38;5;241m@\u001b[39m W2 \u001b[38;5;241m+\u001b[39m b2 \u001b[38;5;66;03m# (32, 27)\u001b[39;00m\n",
      "\u001b[0;31mTypeError\u001b[0m: new(): invalid data type 'str'"
     ]
    }
   ],
   "source": [
    "generate()"
   ]
  },
  {
   "cell_type": "code",
   "execution_count": null,
   "id": "a8a82301",
   "metadata": {},
   "outputs": [],
   "source": []
  }
 ],
 "metadata": {
  "kernelspec": {
   "display_name": "Python 3 (ipykernel)",
   "language": "python",
   "name": "python3"
  },
  "language_info": {
   "codemirror_mode": {
    "name": "ipython",
    "version": 3
   },
   "file_extension": ".py",
   "mimetype": "text/x-python",
   "name": "python",
   "nbconvert_exporter": "python",
   "pygments_lexer": "ipython3",
   "version": "3.9.6"
  }
 },
 "nbformat": 4,
 "nbformat_minor": 5
}
